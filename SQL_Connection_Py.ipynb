{
  "nbformat": 4,
  "nbformat_minor": 0,
  "metadata": {
    "colab": {
      "name": "SQL_Connection_Py.ipynb",
      "provenance": [],
      "authorship_tag": "ABX9TyMxhZKeNPFH4N5VbxLvcfgi",
      "include_colab_link": true
    },
    "kernelspec": {
      "name": "python3",
      "display_name": "Python 3"
    },
    "language_info": {
      "name": "python"
    }
  },
  "cells": [
    {
      "cell_type": "markdown",
      "metadata": {
        "id": "view-in-github",
        "colab_type": "text"
      },
      "source": [
        "<a href=\"https://colab.research.google.com/github/gkjunior/nachschlage_notebooks/blob/main/SQL_Connection_Py.ipynb\" target=\"_parent\"><img src=\"https://colab.research.google.com/assets/colab-badge.svg\" alt=\"Open In Colab\"/></a>"
      ]
    },
    {
      "cell_type": "code",
      "metadata": {
        "id": "eKd8A_1Avk9O"
      },
      "source": [
        "# MicrosoftSQL Verbindung mit Python aufbauen\n",
        "\n",
        "# pip3 install --user pyodbc\n",
        "\n",
        " import pyodbc"
      ],
      "execution_count": 2,
      "outputs": []
    },
    {
      "cell_type": "code",
      "metadata": {
        "id": "LJt9WEiRv3op"
      },
      "source": [
        "# Server Config erstellen\n",
        "\n",
        "server = 'ip or dns'\n",
        "database = 'database'\n",
        "username = 'username'\n",
        "password = 'password'\n",
        "\n",
        "# connection-element\n",
        "\n",
        "conn = pyodbc.connect('Driver = {ODBC Driver 17 for SQL Server}; SERVER = '+server+\\\n",
        "                      ';DATABASE = ' +database+ ';UID=' +username+ ';PWD=' +password)"
      ],
      "execution_count": null,
      "outputs": []
    },
    {
      "cell_type": "code",
      "metadata": {
        "id": "Nip9QlYuw9w9"
      },
      "source": [
        "## Verbindung mit Python Nativ (Unkomfortabel)\n",
        "\n",
        "cursor = conn.cursor # cursor-element für eigentliche Abfrage bauen.\n",
        "\n",
        "test_query = cursor.execute('select top(100) * from sample.dbo.sample1')\n",
        "\n",
        "# Simples Ablesen:\n",
        "for i in cursor:\n",
        "  print(i)\n",
        "\n",
        "# Connection noch closen\n",
        "cursor.close()"
      ],
      "execution_count": null,
      "outputs": []
    },
    {
      "cell_type": "code",
      "metadata": {
        "id": "9sIjXnq2xhWW"
      },
      "source": [
        "## Wesentlich nicer mit Pandas\n",
        "\n",
        "import pandas as pd\n",
        "\n",
        "# conn Element analog zu oben\n",
        "\n",
        "df = pd.read_sql_query('select top(100) * from sample.dbo.sample1', conn)\n",
        "\n",
        "# connection closen\n",
        "conn.close()\n",
        "\n",
        "print(df.head(10))"
      ],
      "execution_count": null,
      "outputs": []
    }
  ]
}