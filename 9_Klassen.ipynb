{
  "nbformat": 4,
  "nbformat_minor": 5,
  "metadata": {
    "kernelspec": {
      "display_name": "Python 3",
      "language": "python",
      "name": "python3"
    },
    "language_info": {
      "codemirror_mode": {
        "name": "ipython",
        "version": 3
      },
      "file_extension": ".py",
      "mimetype": "text/x-python",
      "name": "python",
      "nbconvert_exporter": "python",
      "pygments_lexer": "ipython3",
      "version": "3.8.8"
    },
    "colab": {
      "name": "9_Klassen.ipynb",
      "provenance": [],
      "include_colab_link": true
    }
  },
  "cells": [
    {
      "cell_type": "markdown",
      "metadata": {
        "id": "view-in-github",
        "colab_type": "text"
      },
      "source": [
        "<a href=\"https://colab.research.google.com/github/gkjunior/nachschlage_notebooks/blob/main/9_Klassen.ipynb\" target=\"_parent\"><img src=\"https://colab.research.google.com/assets/colab-badge.svg\" alt=\"Open In Colab\"/></a>"
      ]
    },
    {
      "cell_type": "code",
      "metadata": {
        "id": "0c6341d9"
      },
      "source": [
        "# Eine Klasse erstellen\n",
        "\n",
        "class Dog():\n",
        "    \"\"\"A simple attempt to model a dog.\"\"\"\n",
        "    \n",
        "    def __init__(self, name, age):\n",
        "        \"\"\"Initialize name and age attributes.\"\"\"\n",
        "        self.name = name\n",
        "        self.age = age\n",
        "        \n",
        "    def sit(self):\n",
        "        \"\"\"Simulate a dog sitting in response to a command.\"\"\"\n",
        "        print(f\"{self.name} is now sitting.\")\n",
        "        \n",
        "    def roll_over(self):\n",
        "        \"\"\"Simulate rolling over in response to a command.\"\"\"\n",
        "        print(f\"{self.name} rolled over!\")"
      ],
      "id": "0c6341d9",
      "execution_count": null,
      "outputs": []
    },
    {
      "cell_type": "code",
      "metadata": {
        "id": "7d844843"
      },
      "source": [
        "## Eine Instanz einer Klasse anlegen\n",
        "\n",
        "my_dog = Dog('Willie', 6)"
      ],
      "id": "7d844843",
      "execution_count": null,
      "outputs": []
    },
    {
      "cell_type": "code",
      "metadata": {
        "id": "34b2f5b2",
        "outputId": "49c5cfc2-aaab-416d-d20d-b8b1e786df47"
      },
      "source": [
        "print(my_dog.name)\n",
        "print(my_dog.age)"
      ],
      "id": "34b2f5b2",
      "execution_count": null,
      "outputs": [
        {
          "name": "stdout",
          "output_type": "stream",
          "text": [
            "Willie\n",
            "6\n"
          ]
        }
      ]
    },
    {
      "cell_type": "code",
      "metadata": {
        "id": "26ffd6c8",
        "outputId": "959becbe-613a-4ee4-ad99-68aa0427d397"
      },
      "source": [
        "### Zugriff auf die Attribute\n",
        "\n",
        "print(my_dog.name) ### Keine Funktion\n",
        "my_dog.sit()\n",
        "my_dog.roll_over()"
      ],
      "id": "26ffd6c8",
      "execution_count": null,
      "outputs": [
        {
          "name": "stdout",
          "output_type": "stream",
          "text": [
            "Willie\n",
            "Willie is now sitting.\n",
            "Willie rolled over!\n"
          ]
        }
      ]
    },
    {
      "cell_type": "code",
      "metadata": {
        "id": "489698d4",
        "outputId": "79653c6e-1dd3-43a1-ce4d-ee4dd3b10d84"
      },
      "source": [
        "# Mehrere Instanzen erstellen\n",
        "\n",
        "my_dog = Dog('Willie', 6)\n",
        "your_dog = Dog('Lucy',3)\n",
        "\n",
        "my_dog.sit()\n",
        "your_dog.sit()"
      ],
      "id": "489698d4",
      "execution_count": null,
      "outputs": [
        {
          "name": "stdout",
          "output_type": "stream",
          "text": [
            "Willie is now sitting.\n",
            "Lucy is now sitting.\n"
          ]
        }
      ]
    },
    {
      "cell_type": "code",
      "metadata": {
        "id": "b1c0ee1c"
      },
      "source": [
        "###  Mit Klassen und Instanzen arbeiten\n",
        "\n",
        "class Car():\n",
        "    \"\"\"A simple attempt to represent a car.\"\"\"\n",
        "    \n",
        "    def __init__(self,make,model,year):\n",
        "        \"\"\"Initialize attributes to describe a car.\"\"\"\n",
        "        self.make = make\n",
        "        self.model = model\n",
        "        self.year = year\n",
        "        \n",
        "    def get_descriptive_name(self):\n",
        "        \"\"\"Return a neatly formatted descriptive name.\"\"\"\n",
        "        long_name = f\"{self.year} {self.make} {self.model}\"\n",
        "        return long_name.title()\n",
        "    \n"
      ],
      "id": "b1c0ee1c",
      "execution_count": null,
      "outputs": []
    },
    {
      "cell_type": "code",
      "metadata": {
        "id": "a3da95a4",
        "outputId": "f0065641-89f3-41dc-cae0-8f6d43d08503"
      },
      "source": [
        "    my_new_car = Car('audi', 'a4', 2019)\n",
        "    print(my_new_car.get_descriptive_name())"
      ],
      "id": "a3da95a4",
      "execution_count": null,
      "outputs": [
        {
          "name": "stdout",
          "output_type": "stream",
          "text": [
            "2019 Audi A4\n"
          ]
        }
      ]
    },
    {
      "cell_type": "code",
      "metadata": {
        "id": "a374bfa8"
      },
      "source": [
        "### Ein Standardwert für ein Attribut festlegen\n",
        "\n",
        "###  Mit Klassen und Instanzen arbeiten\n",
        "\n",
        "class Car():\n",
        "    \"\"\"A simple attempt to represent a car.\"\"\"\n",
        "    \n",
        "    def __init__(self,make,model,year):\n",
        "        \"\"\"Initialize attributes to describe a car.\"\"\"\n",
        "        self.make = make\n",
        "        self.model = model\n",
        "        self.year = year\n",
        "        self.odometer_reading = 0   ##### Neu mit Standardwert\n",
        "        \n",
        "    def get_descriptive_name(self):\n",
        "        \"\"\"Return a neatly formatted descriptive name.\"\"\"\n",
        "        long_name = f\"{self.year} {self.make} {self.model}\"\n",
        "        return long_name.title()\n",
        "    \n",
        "    def read_odometer(self): #### auslesen, vorerst des standardwerts\n",
        "        \"\"\"Print the mileage.\"\"\"\n",
        "        print(f\"This car has {self.odometer_reading} miles on it.\")\n",
        "        \n",
        "\n"
      ],
      "id": "a374bfa8",
      "execution_count": null,
      "outputs": []
    },
    {
      "cell_type": "code",
      "metadata": {
        "id": "72d32009",
        "outputId": "882e936c-94f6-41eb-e94c-04273ddf9b1a"
      },
      "source": [
        "my_new_car.read_odometer()"
      ],
      "id": "72d32009",
      "execution_count": null,
      "outputs": [
        {
          "name": "stdout",
          "output_type": "stream",
          "text": [
            "This car has 0 miles on it.\n"
          ]
        }
      ]
    },
    {
      "cell_type": "code",
      "metadata": {
        "id": "c99115bd",
        "outputId": "9813abcd-6592-4cf3-a0e9-0232d1ee9996"
      },
      "source": [
        "### Attributwerte bearbeiten\n",
        "# Direkte Änderung\n",
        "\n",
        "my_new_car.odometer_reading = 23\n",
        "my_new_car.read_odometer()\n",
        "        "
      ],
      "id": "c99115bd",
      "execution_count": null,
      "outputs": [
        {
          "name": "stdout",
          "output_type": "stream",
          "text": [
            "This car has 23 miles on it.\n"
          ]
        }
      ]
    },
    {
      "cell_type": "code",
      "metadata": {
        "id": "07049e13"
      },
      "source": [
        "### Änderung durch eines Attributes durch eine Methode\n",
        "\n",
        "class Car():\n",
        "    \"\"\"A simple attempt to represent a car.\"\"\"\n",
        "    \n",
        "    def __init__(self,make,model,year):\n",
        "        \"\"\"Initialize attributes to describe a car.\"\"\"\n",
        "        self.make = make\n",
        "        self.model = model\n",
        "        self.year = year\n",
        "        self.odometer_reading = 0   ##### Neu mit Standardwert\n",
        "        \n",
        "    def get_descriptive_name(self):\n",
        "        \"\"\"Return a neatly formatted descriptive name.\"\"\"\n",
        "        long_name = f\"{self.year} {self.make} {self.model}\"\n",
        "        return long_name.title()\n",
        "    \n",
        "    def read_odometer(self): #### auslesen, vorerst des standardwerts\n",
        "        \"\"\"Print the mileage.\"\"\"\n",
        "        print(f\"This car has {self.odometer_reading} miles on it.\")\n",
        "        \n",
        "    def update_odometer(self, mileage):   ########## Odometer per Methode ändern\n",
        "        \"\"\"Set the odometer reading to the given value.\n",
        "           Reject the change if it attempts to roll the odometer back.\n",
        "        \"\"\"\n",
        "        if mileage >= self.odometer_reading:\n",
        "            self.odometer_reading = mileage\n",
        "        else:\n",
        "            print(\"You can't roll back an odometer.\")"
      ],
      "id": "07049e13",
      "execution_count": null,
      "outputs": []
    },
    {
      "cell_type": "code",
      "metadata": {
        "id": "385b20d4"
      },
      "source": [
        "my_used_car = Car('subaru', 'outback', 2015)"
      ],
      "id": "385b20d4",
      "execution_count": null,
      "outputs": []
    },
    {
      "cell_type": "code",
      "metadata": {
        "id": "a74cec63",
        "outputId": "3de59ca9-1003-4839-c195-a9f5b6686d8b"
      },
      "source": [
        "my_used_car.get_descriptive_name()"
      ],
      "id": "a74cec63",
      "execution_count": null,
      "outputs": [
        {
          "data": {
            "text/plain": [
              "'2015 Subaru Outback'"
            ]
          },
          "execution_count": 14,
          "metadata": {},
          "output_type": "execute_result"
        }
      ]
    },
    {
      "cell_type": "code",
      "metadata": {
        "id": "a37d8fde",
        "outputId": "8ef28b86-a716-40e2-ab0b-c1a35ca6e56b"
      },
      "source": [
        "my_used_car.read_odometer()"
      ],
      "id": "a37d8fde",
      "execution_count": null,
      "outputs": [
        {
          "name": "stdout",
          "output_type": "stream",
          "text": [
            "This car has 0 miles on it.\n"
          ]
        }
      ]
    },
    {
      "cell_type": "code",
      "metadata": {
        "id": "8146c6f4"
      },
      "source": [
        "my_used_car.update_odometer(100)"
      ],
      "id": "8146c6f4",
      "execution_count": null,
      "outputs": []
    },
    {
      "cell_type": "code",
      "metadata": {
        "id": "5a1ef373",
        "outputId": "0ae9dfcc-afd7-4718-d5b8-2d6d2633f23d"
      },
      "source": [
        "my_used_car.read_odometer()"
      ],
      "id": "5a1ef373",
      "execution_count": null,
      "outputs": [
        {
          "name": "stdout",
          "output_type": "stream",
          "text": [
            "This car has 100 miles on it.\n"
          ]
        }
      ]
    },
    {
      "cell_type": "code",
      "metadata": {
        "id": "c27da0bd",
        "outputId": "75c32849-9d2b-48ee-a6b5-cdb9da888f90"
      },
      "source": [
        "my_used_car.update_odometer(50) #### geht nicht mehr"
      ],
      "id": "c27da0bd",
      "execution_count": null,
      "outputs": [
        {
          "name": "stdout",
          "output_type": "stream",
          "text": [
            "You can't roll back an odometer.\n"
          ]
        }
      ]
    },
    {
      "cell_type": "code",
      "metadata": {
        "id": "7db47c4e"
      },
      "source": [
        "############### Inkrementieren eines Attributwerts durch eine Methode\n",
        "\n",
        "class Car():\n",
        "    \"\"\"A simple attempt to represent a car.\"\"\"\n",
        "    \n",
        "    def __init__(self,make,model,year):\n",
        "        \"\"\"Initialize attributes to describe a car.\"\"\"\n",
        "        self.make = make\n",
        "        self.model = model\n",
        "        self.year = year\n",
        "        self.odometer_reading = 0   ##### Neu mit Standardwert\n",
        "        \n",
        "    def get_descriptive_name(self):\n",
        "        \"\"\"Return a neatly formatted descriptive name.\"\"\"\n",
        "        long_name = f\"{self.year} {self.make} {self.model}\"\n",
        "        return long_name.title()\n",
        "    \n",
        "    def read_odometer(self): #### auslesen, vorerst des standardwerts\n",
        "        \"\"\"Print the mileage.\"\"\"\n",
        "        print(f\"This car has {self.odometer_reading} miles on it.\")\n",
        "        \n",
        "    def update_odometer(self, mileage):   ########## Odometer per Methode ändern\n",
        "        \"\"\"Set the odometer reading to the given value.\n",
        "           Reject the change if it attempts to roll the odometer back.\n",
        "        \"\"\"\n",
        "        if mileage >= self.odometer_reading:\n",
        "            self.odometer_reading = mileage\n",
        "        else:\n",
        "            print(\"You can't roll back an odometer.\")\n",
        "            \n",
        "    def increment_odometer(self, miles): #### man beachte hier einen neuen wert, welcher im grunde beim mitgeben \\\n",
        "        # den werd bei __init__ verändert (unter Klasse)\n",
        "        \"\"\"Add the given amount to the odometer reading.\"\"\"\n",
        "        self.odometer_reading += miles\n",
        "        print(f\"\\nOdometer has been updated {self.odometer_reading}\")"
      ],
      "id": "7db47c4e",
      "execution_count": null,
      "outputs": []
    },
    {
      "cell_type": "code",
      "metadata": {
        "id": "d411b34e",
        "outputId": "67551c09-42f5-4235-84f1-472f81856571"
      },
      "source": [
        "my_used_car.increment_odometer(10)"
      ],
      "id": "d411b34e",
      "execution_count": null,
      "outputs": [
        {
          "name": "stdout",
          "output_type": "stream",
          "text": [
            "\n",
            "Odometer has been updated 10\n"
          ]
        }
      ]
    },
    {
      "cell_type": "code",
      "metadata": {
        "id": "54d6c9c4"
      },
      "source": [
        "### Vererbung für Kindsklassen\n",
        "\n",
        "class ElectircCar(Car):\n",
        "    \"\"\"Rep\"\"\""
      ],
      "id": "54d6c9c4",
      "execution_count": null,
      "outputs": []
    }
  ]
}