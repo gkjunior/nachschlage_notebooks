{
  "nbformat": 4,
  "nbformat_minor": 5,
  "metadata": {
    "kernelspec": {
      "display_name": "Python 3",
      "language": "python",
      "name": "python3"
    },
    "language_info": {
      "codemirror_mode": {
        "name": "ipython",
        "version": 3
      },
      "file_extension": ".py",
      "mimetype": "text/x-python",
      "name": "python",
      "nbconvert_exporter": "python",
      "pygments_lexer": "ipython3",
      "version": "3.8.8"
    },
    "colab": {
      "name": "7_for_while_dicts_lists_schleifen.ipynb",
      "provenance": [],
      "include_colab_link": true
    }
  },
  "cells": [
    {
      "cell_type": "markdown",
      "metadata": {
        "id": "view-in-github",
        "colab_type": "text"
      },
      "source": [
        "<a href=\"https://colab.research.google.com/github/gkjunior/nachschlage_notebooks/blob/main/7_for_while_dicts_lists_schleifen.ipynb\" target=\"_parent\"><img src=\"https://colab.research.google.com/assets/colab-badge.svg\" alt=\"Open In Colab\"/></a>"
      ]
    },
    {
      "cell_type": "code",
      "metadata": {
        "id": "bd9a8cfd",
        "outputId": "7e199609-2658-4f95-da80-d2c3b81aa765"
      },
      "source": [
        "current_number = 0\n",
        "while current_number < 10:\n",
        "    current_number += 1\n",
        "    if current_number % 2 == 0:\n",
        "        continue\n",
        "        \n",
        "    print(current_number)"
      ],
      "id": "bd9a8cfd",
      "execution_count": null,
      "outputs": [
        {
          "name": "stdout",
          "output_type": "stream",
          "text": [
            "1\n",
            "3\n",
            "5\n",
            "7\n",
            "9\n"
          ]
        }
      ]
    },
    {
      "cell_type": "code",
      "metadata": {
        "id": "be085557",
        "outputId": "e3d19f75-fb51-42c4-c0ea-6139177c6702"
      },
      "source": [
        "# endlosschleife vermeiden\n",
        "\n",
        "x = 1\n",
        "while x <= 5:\n",
        "    print(x)\n",
        "    x += 1"
      ],
      "id": "be085557",
      "execution_count": null,
      "outputs": [
        {
          "name": "stdout",
          "output_type": "stream",
          "text": [
            "1\n",
            "2\n",
            "3\n",
            "4\n",
            "5\n"
          ]
        }
      ]
    },
    {
      "cell_type": "code",
      "metadata": {
        "id": "f593dd2a"
      },
      "source": [
        "# ohne x += 1 läuft sie endlos\n",
        "\n",
        "#x = 1\n",
        "#while x <= 5:\n",
        "#    print(x)\n",
        "##### kann mit strg + c abgebrochen werden"
      ],
      "id": "f593dd2a",
      "execution_count": null,
      "outputs": []
    },
    {
      "cell_type": "code",
      "metadata": {
        "id": "6807da22",
        "outputId": "7859944e-633c-48ac-a61f-a767048d6cfd"
      },
      "source": [
        "# 7-4 Pizzabeläge\n",
        "\n",
        "# Pizzabestücker\n",
        "\n",
        "pizza_belag = []\n",
        "pizza_auswahl = ['Käse', 'Gauda', 'Salami']\n",
        "\n",
        "prompt = \"Bitte extra Belag auswählen \"\n",
        "prompt += \"\\nZum beenden, bitte 'Fertig' eintippen \"\n",
        "prompt += \"\\nDas letzte Element via 'Löschen' entfernen. \"\n",
        "\n",
        "while True:\n",
        "    belag = input(prompt)\n",
        "    belag = belag.capitalize()\n",
        "    if belag == 'Fertig' and len(pizza_belag) == 0:\n",
        "        print(\"\\nPizza-Belag-Programm wird beendet \")\n",
        "        print(\"\\nAktuelle Pizza-Konfiguration ist leer und es wurde keine Pizza konfiguriert \")\n",
        "        break\n",
        "    elif belag == 'Fertig'and len(pizza_belag) != 0:\n",
        "        print(\"\\nPizza-Belag-Programm wird beendet \")\n",
        "        print(f\"\\nAktuelle Pizza Konfiguration: {pizza_belag}\")\n",
        "        break\n",
        "    elif belag == 'Löschen' and len(pizza_belag) == 0:\n",
        "        print(\"\\n Fehler, löschen nicht möglich. Noch keine Auswahl getroffen.\")\n",
        "    elif belag == 'Löschen' and len(pizza_belag) != 0:\n",
        "        del(pizza_belag[-1])\n",
        "        print(f\"\\nAktuelle Pizza Konfiguration: {pizza_belag}\")\n",
        "    else:\n",
        "        if belag in pizza_auswahl:\n",
        "            print(f\"\\nFüge {belag.title()} hinzu\")\n",
        "            pizza_belag.append(belag)\n",
        "            print(f\"\\n Aktuelle Pizza Kondiguartion: {pizza_belag}\")\n",
        "        else:\n",
        "            print(\"\\nAktueller Belag nicht verfügbar.\")\n",
        "        \n",
        "    \n",
        "    "
      ],
      "id": "6807da22",
      "execution_count": null,
      "outputs": [
        {
          "name": "stdout",
          "output_type": "stream",
          "text": [
            "Bitte extra Belag auswählen \n",
            "Zum beenden, bitte 'Fertig' eintippen \n",
            "Das letzte Element via 'Löschen' entfernen. löschen\n",
            "\n",
            " Fehler, löschen nicht möglich. Noch keine Auswahl getroffen.\n",
            "Bitte extra Belag auswählen \n",
            "Zum beenden, bitte 'Fertig' eintippen \n",
            "Das letzte Element via 'Löschen' entfernen. Salami\n",
            "\n",
            "Füge Salami hinzu\n",
            "\n",
            " Aktuelle Pizza Kondiguartion: ['Salami']\n",
            "Bitte extra Belag auswählen \n",
            "Zum beenden, bitte 'Fertig' eintippen \n",
            "Das letzte Element via 'Löschen' entfernen. Käse\n",
            "\n",
            "Füge Käse hinzu\n",
            "\n",
            " Aktuelle Pizza Kondiguartion: ['Salami', 'Käse']\n",
            "Bitte extra Belag auswählen \n",
            "Zum beenden, bitte 'Fertig' eintippen \n",
            "Das letzte Element via 'Löschen' entfernen. Gauda\n",
            "\n",
            "Füge Gauda hinzu\n",
            "\n",
            " Aktuelle Pizza Kondiguartion: ['Salami', 'Käse', 'Gauda']\n",
            "Bitte extra Belag auswählen \n",
            "Zum beenden, bitte 'Fertig' eintippen \n",
            "Das letzte Element via 'Löschen' entfernen. Salami\n",
            "\n",
            "Füge Salami hinzu\n",
            "\n",
            " Aktuelle Pizza Kondiguartion: ['Salami', 'Käse', 'Gauda', 'Salami']\n",
            "Bitte extra Belag auswählen \n",
            "Zum beenden, bitte 'Fertig' eintippen \n",
            "Das letzte Element via 'Löschen' entfernen. löschen\n",
            "\n",
            "Aktuelle Pizza Konfiguration: ['Salami', 'Käse', 'Gauda']\n",
            "Bitte extra Belag auswählen \n",
            "Zum beenden, bitte 'Fertig' eintippen \n",
            "Das letzte Element via 'Löschen' entfernen. fertif\n",
            "\n",
            "Aktueller Belag nicht verfügbar.\n",
            "Bitte extra Belag auswählen \n",
            "Zum beenden, bitte 'Fertig' eintippen \n",
            "Das letzte Element via 'Löschen' entfernen. fertig\n",
            "\n",
            "Pizza-Belag-Programm wird beendet \n",
            "\n",
            "Aktuelle Pizza Konfiguration: ['Salami', 'Käse', 'Gauda']\n"
          ]
        }
      ]
    },
    {
      "cell_type": "code",
      "metadata": {
        "id": "076bfdd9",
        "outputId": "3abe6be3-bdff-4daa-cf52-9bdcbdf0f45d"
      },
      "source": [
        "# 7-5 Eintritsskarten\n",
        "\n",
        "preisliste = [\n",
        "    {'Alter': 2, 'Kategorie': '1: Jünger als 3-Jahre', 'Preis': 0},\n",
        "    {'Alter': 11, 'Kategorie': '2: Jünger als 12-Jahre', 'Preis': 10},\n",
        "    {'Alter': 12, 'Kategorie': '3: Älter als 12-Jahre', 'Preis': 15},\n",
        "]\n",
        "\n",
        "Gäste = []\n",
        "Preis = []\n",
        "\n",
        "\n",
        "while True:\n",
        "    prompt = \"Bitte alter eingeben: \"\n",
        "    prompt += \"\\nfertig eingeben für ende \"\n",
        "    alter = input(prompt)\n",
        "    if alter == 'fertig':\n",
        "        break\n",
        "    else:\n",
        "        alter = int(alter)\n",
        "        if alter < 3:\n",
        "            print(f\"\\nKategorie {preisliste[0]['Kategorie']} wird hinzugefügt\")\n",
        "            Gäste.append(1)\n",
        "            Preis.append(preisliste[0]['Preis'])\n",
        "        elif alter < 12:\n",
        "            print(f\"\\nKategorie {preisliste[1]['Kategorie']} wird hinzugefügt\")\n",
        "            Gäste.append(1)\n",
        "            Preis.append(preisliste[1]['Preis'])\n",
        "        else: \n",
        "            print(f\"\\nKategorie {preisliste[2]['Kategorie']} wird hinzugefügt\")\n",
        "            Gäste.append(1)\n",
        "            Preis.append(preisliste[2]['Preis'])\n",
        "print()\n",
        "print(str(sum(Gäste))+\" \"+str(\"Gäste\"))\n",
        "print(str(sum(Preis))+\" \"+str(\"€\"))"
      ],
      "id": "076bfdd9",
      "execution_count": null,
      "outputs": [
        {
          "name": "stdout",
          "output_type": "stream",
          "text": [
            "Bitte alter eingeben: \n",
            "fertig eingeben für ende 4\n",
            "\n",
            "Kategorie 2: Jünger als 12-Jahre wird hinzugefügt\n",
            "Bitte alter eingeben: \n",
            "fertig eingeben für ende 35\n",
            "\n",
            "Kategorie 3: Älter als 12-Jahre wird hinzugefügt\n",
            "Bitte alter eingeben: \n",
            "fertig eingeben für ende fertig\n",
            "\n",
            "2 Gäste\n",
            "25 €\n"
          ]
        }
      ]
    },
    {
      "cell_type": "code",
      "metadata": {
        "id": "a3d82356",
        "outputId": "84b3255d-dc11-4127-e950-98d180867c8d"
      },
      "source": [
        "# 7-5 Eintritsskarten, mit FLAG-Variable\n",
        "\n",
        "preisliste = [\n",
        "    {'Alter': 2, 'Kategorie': '1: Jünger als 3-Jahre', 'Preis': 0},\n",
        "    {'Alter': 11, 'Kategorie': '2: Jünger als 12-Jahre', 'Preis': 10},\n",
        "    {'Alter': 12, 'Kategorie': '3: Älter als 12-Jahre', 'Preis': 15},\n",
        "]\n",
        "\n",
        "Gäste = []\n",
        "Preis = []\n",
        "\n",
        "active = True\n",
        "\n",
        "\n",
        "while active:\n",
        "    prompt = \"Bitte alter eingeben: \"\n",
        "    prompt += \"\\nfertig eingeben für ende \"\n",
        "    alter = input(prompt)\n",
        "    if alter == 'fertig':\n",
        "        active = False\n",
        "    else:\n",
        "        alter = int(alter)\n",
        "        if alter < 3:\n",
        "            print(f\"\\nKategorie {preisliste[0]['Kategorie']} wird hinzugefügt\")\n",
        "            Gäste.append(1)\n",
        "            Preis.append(preisliste[0]['Preis'])\n",
        "        elif alter < 12:\n",
        "            print(f\"\\nKategorie {preisliste[1]['Kategorie']} wird hinzugefügt\")\n",
        "            Gäste.append(1)\n",
        "            Preis.append(preisliste[1]['Preis'])\n",
        "        else: \n",
        "            print(f\"\\nKategorie {preisliste[2]['Kategorie']} wird hinzugefügt\")\n",
        "            Gäste.append(1)\n",
        "            Preis.append(preisliste[2]['Preis'])\n",
        "print()\n",
        "print(str(sum(Gäste))+\" \"+str(\"Gäste\"))\n",
        "print(str(sum(Preis))+\" \"+str(\"€\"))"
      ],
      "id": "a3d82356",
      "execution_count": null,
      "outputs": [
        {
          "name": "stdout",
          "output_type": "stream",
          "text": [
            "Bitte alter eingeben: \n",
            "fertig eingeben für ende fertig\n",
            "\n",
            "0 Gäste\n",
            "0 €\n"
          ]
        }
      ]
    },
    {
      "cell_type": "code",
      "metadata": {
        "id": "919435a3",
        "outputId": "b236ef9e-e2aa-459b-d8b2-26afe7655560"
      },
      "source": [
        "# Elemente von einer Liste in eine andere verschieben\n",
        "\n",
        "unconfirmed_users = ['alice', 'brian', 'candance']\n",
        "confirmed_users = []\n",
        "\n",
        "# Prüft alle Benutzer, bis keine unbestätigten mehr vorhanden sind.\n",
        "# verschiebt jeden bestätigten Benutzer in die entsprechende Liste.\n",
        "\n",
        "while unconfirmed_users:\n",
        "    current_user = unconfirmed_users.pop()\n",
        "    \n",
        "    print(f\"Verifying user: {current_user.title()}\")\n",
        "    confirmed_users.append(current_user)\n",
        "\n",
        "# Zeigt alle bestätigten Benutzer an.\n",
        "print(\"\\nThe following users have been confirmed: \")\n",
        "for confirmed_user in confirmed_users:\n",
        "    print(confirmed_user.title())\n",
        "\n"
      ],
      "id": "919435a3",
      "execution_count": null,
      "outputs": [
        {
          "name": "stdout",
          "output_type": "stream",
          "text": [
            "Verifying user: Candance\n",
            "Verifying user: Brian\n",
            "Verifying user: Alice\n",
            "\n",
            "The following users have been confirmed: \n",
            "Candance\n",
            "Brian\n",
            "Alice\n"
          ]
        }
      ]
    },
    {
      "cell_type": "code",
      "metadata": {
        "id": "c34bf08c",
        "outputId": "6c6c438f-88c9-467a-d224-452e581a9745"
      },
      "source": [
        "# alle Vorkommen eines Wertes aus einer Liste entfernen\n",
        "\n",
        "pets = ['dog', 'cat', 'dog', 'goldfish', 'cat', 'rabbit', 'cat']\n",
        "print(pets)\n",
        "\n",
        "while 'cat' in pets:\n",
        "    pets.remove('cat')\n",
        "    \n",
        "print(pets)"
      ],
      "id": "c34bf08c",
      "execution_count": null,
      "outputs": [
        {
          "name": "stdout",
          "output_type": "stream",
          "text": [
            "['dog', 'cat', 'dog', 'goldfish', 'cat', 'rabbit', 'cat']\n",
            "['dog', 'dog', 'goldfish', 'rabbit']\n"
          ]
        }
      ]
    },
    {
      "cell_type": "markdown",
      "metadata": {
        "id": "5fc1a6c2"
      },
      "source": [
        ""
      ],
      "id": "5fc1a6c2"
    },
    {
      "cell_type": "code",
      "metadata": {
        "id": "89ab6620",
        "outputId": "dd15f42f-8c54-4010-c824-1607a8fd4ccd"
      },
      "source": [
        "# Ein Dictionary mit Benutzereingaben füllen\n",
        "\n",
        "responses = {}\n",
        "\n",
        "#Richtet ein Flag ein, um anzugeben, dass die Umfrage aktiv bleiben soll.\n",
        "\n",
        "polling_active = True\n",
        "\n",
        "while polling_active:\n",
        "    name = input(\"\\nWhats your name? \")\n",
        "    response = input(\"Which Mountain would you like to climb?\")\n",
        "    \n",
        "    # Speichert die Antwort im Dictionary:\n",
        "    responses[name] = response\n",
        "    \n",
        "    # Fragt ob noch jemand an der Umfrage teilnehmen möchte:\n",
        "    repeat = input(\"Would you like to let another person respond? (yes/no) \")\n",
        "    if repeat == 'no':\n",
        "        polling_active = False\n",
        "\n",
        "# Die Umfrage ist abgeschlossen, die Ergebnisse werden angezeigt:\n",
        "print(\"\\n--- POLL RESULTS ---\")\n",
        "for name, response in responses.items():\n",
        "    print(f\"{name} would like to climb {response}.\")\n",
        "\n",
        "\n",
        "print()\n",
        "print(responses)\n",
        "\n",
        "\n",
        "\n",
        "\n"
      ],
      "id": "89ab6620",
      "execution_count": null,
      "outputs": [
        {
          "name": "stdout",
          "output_type": "stream",
          "text": [
            "\n",
            "Whats your name? Gerd\n",
            "Which Mountain would you like to climb?Brocken\n",
            "Would you like to let another person respond? (yes/no) no\n",
            "\n",
            "--- POLL RESULTS ---\n",
            "Gerd would like to climb Brocken.\n",
            "\n",
            "{'Gerd': 'Brocken'}\n",
            "[{'Gerd': 'Brocken'}]\n"
          ]
        }
      ]
    },
    {
      "cell_type": "code",
      "metadata": {
        "id": "e9fd0db3",
        "outputId": "b786333f-8cd9-45da-ff53-81718b6b238e"
      },
      "source": [
        "# Try it yourself\n",
        "# 7-8 Sandwhiches\n",
        "\n",
        "sandwich_orders = ['veggie', 'pastrami', 'grilled cheese', 'pastrami','turkey', 'roast beef', 'pastrami']\n",
        "finished_sandwiches = []\n",
        "\n",
        "while sandwich_orders:\n",
        "    current_sandwich = sandwich_orders.pop()\n",
        "    if current_sandwich == 'pastrami':\n",
        "        print(\"\\nSorry we are out of Pastrami Sandwiches\")\n",
        "    else:\n",
        "        print(f\"\\nCurrently making your {current_sandwich.title()} Sandwich\")\n",
        "        finished_sandwiches.append(current_sandwich)\n",
        "\n",
        "print(f\"\\nThe following sandwiches were completed: \")\n",
        "for sandwich in finished_sandwiches:\n",
        "    print(f\"\\n {sandwich.title()}\")"
      ],
      "id": "e9fd0db3",
      "execution_count": null,
      "outputs": [
        {
          "name": "stdout",
          "output_type": "stream",
          "text": [
            "\n",
            "Sorry we are out of Pastrami Sandwiches\n",
            "\n",
            "Currently making your Roast Beef Sandwich\n",
            "\n",
            "Currently making your Turkey Sandwich\n",
            "\n",
            "Sorry we are out of Pastrami Sandwiches\n",
            "\n",
            "Currently making your Grilled Cheese Sandwich\n",
            "\n",
            "Sorry we are out of Pastrami Sandwiches\n",
            "\n",
            "Currently making your Veggie Sandwich\n",
            "\n",
            "The following sandwiches were completed: \n",
            "\n",
            " Roast Beef\n",
            "\n",
            " Turkey\n",
            "\n",
            " Grilled Cheese\n",
            "\n",
            " Veggie\n"
          ]
        }
      ]
    },
    {
      "cell_type": "code",
      "metadata": {
        "id": "4e8fa9d4",
        "outputId": "7363863d-00be-4e3f-af22-c36d7a2bb1de"
      },
      "source": [
        "# 7-10 Traumurlaub\n",
        "\n",
        "traumziele = []\n",
        "\n",
        "prompt = \"Bitte geben sie ihren Traumurlaubsort ein: \"\n",
        "prompt += \"\\nZum Beenden bitte 'Ende' eintippen \"\n",
        "\n",
        "\n",
        "while True:\n",
        "    urlaubsort = input(prompt)\n",
        "    if urlaubsort == \"Ende\":\n",
        "        break\n",
        "    else:\n",
        "        print(f\"\\n Vielen Dank für Ihre Eingabe, Urlaubsort: {urlaubsort.title()} wurde hinzugefügt\")\n",
        "        traumziele.append(urlaubsort)\n",
        "print(\"\\nFolgende Urlaubsorte wurden hinzugefügt:\")\n",
        "if len(traumziele) == 0:\n",
        "    print(\"\\nEs wurden noch keine Orte eingegeben.\")\n",
        "else:\n",
        "    for ort in traumziele:\n",
        "        print(f\"{ort.title()}\")\n",
        "\n"
      ],
      "id": "4e8fa9d4",
      "execution_count": null,
      "outputs": [
        {
          "name": "stdout",
          "output_type": "stream",
          "text": [
            "Bitte geben sie ihren Traumurlaubsort ein: \n",
            "Zum Beenden bitte 'Ende' eintippen Venedig\n",
            "\n",
            " Vielen Dank für Ihre Eingabe, Urlaubsort: Venedig wurde hinzugefügt\n",
            "Bitte geben sie ihren Traumurlaubsort ein: \n",
            "Zum Beenden bitte 'Ende' eintippen Island\n",
            "\n",
            " Vielen Dank für Ihre Eingabe, Urlaubsort: Island wurde hinzugefügt\n",
            "Bitte geben sie ihren Traumurlaubsort ein: \n",
            "Zum Beenden bitte 'Ende' eintippen USA\n",
            "\n",
            " Vielen Dank für Ihre Eingabe, Urlaubsort: Usa wurde hinzugefügt\n",
            "Bitte geben sie ihren Traumurlaubsort ein: \n",
            "Zum Beenden bitte 'Ende' eintippen Ende\n",
            "\n",
            "Folgende Urlaubsorte wurden hinzugefügt:\n",
            "Venedig\n",
            "Island\n",
            "Usa\n"
          ]
        }
      ]
    },
    {
      "cell_type": "code",
      "metadata": {
        "id": "2c82f7dc",
        "outputId": "e66aae30-58ff-4e67-ca66-c5c413424057"
      },
      "source": [
        "# 7-10 als Version mit Dictionary und Usern\n",
        "\n",
        "urlaubsziele ={}\n",
        "\n",
        "\n",
        "while True:\n",
        "    name = input(\"\\nBitte Namen eingeben: \")\n",
        "    traumziel = input(\"\\nBitte geben sie ihren Traumurlaubsort ein: \")\n",
        "    \n",
        "    #urlaubsziel auffüllen:\n",
        "    urlaubsziele[name] = traumziel\n",
        "    newuser = input(\"\\nMöchte jemand weiteres eine Eingabe vornehmen? (ja/nein): \")\n",
        "    if newuser == 'nein':\n",
        "        break\n",
        "\n",
        "print(\"\\nFolgende Partizipanten haben folgende Reiseziele eigegeben: \")\n",
        "for name, reiseziel in urlaubsziele.items():\n",
        "    print(f\"\\nPartizipant {name.title()} möchte nach {reiseziel.title()} reisen.\")\n"
      ],
      "id": "2c82f7dc",
      "execution_count": null,
      "outputs": [
        {
          "name": "stdout",
          "output_type": "stream",
          "text": [
            "\n",
            "Bitte Namen eingeben: Gerd\n",
            "\n",
            "Bitte geben sie ihren Traumurlaubsort ein: Venedig\n",
            "\n",
            "Möchte jemand weiteres eine Eingabe vornehmen? (ja/nein): ja\n",
            "\n",
            "Bitte Namen eingeben: Pina\n",
            "\n",
            "Bitte geben sie ihren Traumurlaubsort ein: Toskana\n",
            "\n",
            "Möchte jemand weiteres eine Eingabe vornehmen? (ja/nein): no\n",
            "\n",
            "Folgende Partizipanten haben folgende Reiseziele eigegeben: \n",
            "\n",
            "Partizipant Gerd möchte nach Venedig reisen.\n",
            "\n",
            "Partizipant Pina möchte nach Toskana reisen.\n"
          ]
        }
      ]
    },
    {
      "cell_type": "code",
      "metadata": {
        "id": "b0b50104"
      },
      "source": [
        ""
      ],
      "id": "b0b50104",
      "execution_count": null,
      "outputs": []
    }
  ]
}