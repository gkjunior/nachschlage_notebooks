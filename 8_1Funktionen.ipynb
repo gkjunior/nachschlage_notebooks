{
  "nbformat": 4,
  "nbformat_minor": 5,
  "metadata": {
    "kernelspec": {
      "display_name": "Python 3",
      "language": "python",
      "name": "python3"
    },
    "language_info": {
      "codemirror_mode": {
        "name": "ipython",
        "version": 3
      },
      "file_extension": ".py",
      "mimetype": "text/x-python",
      "name": "python",
      "nbconvert_exporter": "python",
      "pygments_lexer": "ipython3",
      "version": "3.8.8"
    },
    "colab": {
      "name": "8_1Funktionen.ipynb",
      "provenance": [],
      "include_colab_link": true
    }
  },
  "cells": [
    {
      "cell_type": "markdown",
      "metadata": {
        "id": "view-in-github",
        "colab_type": "text"
      },
      "source": [
        "<a href=\"https://colab.research.google.com/github/gkjunior/nachschlage_notebooks/blob/main/8_1Funktionen.ipynb\" target=\"_parent\"><img src=\"https://colab.research.google.com/assets/colab-badge.svg\" alt=\"Open In Colab\"/></a>"
      ]
    },
    {
      "cell_type": "code",
      "metadata": {
        "id": "a76e7ecf"
      },
      "source": [
        "# Funktion definieren\n",
        "# Hier ohne argumente.\n",
        "\n",
        "def greet_user():\n",
        "    \"\"\"Display a simple greeting.\"\"\"\n",
        "    print(\"Hello!\")"
      ],
      "id": "a76e7ecf",
      "execution_count": null,
      "outputs": []
    },
    {
      "cell_type": "code",
      "metadata": {
        "id": "5010c4c1",
        "outputId": "06ff64e9-d6d5-46b0-948d-f71bb3664586"
      },
      "source": [
        "greet_user()"
      ],
      "id": "5010c4c1",
      "execution_count": null,
      "outputs": [
        {
          "name": "stdout",
          "output_type": "stream",
          "text": [
            "Hello!\n"
          ]
        }
      ]
    },
    {
      "cell_type": "code",
      "metadata": {
        "id": "3619fa30"
      },
      "source": [
        "# Informationen an eine Funktion übergeben\n",
        "def greet_user(username):\n",
        "    \"\"\"Display a simple Username greeting\"\"\"\n",
        "    print(f\"Hello, {username.title()}!\")"
      ],
      "id": "3619fa30",
      "execution_count": null,
      "outputs": []
    },
    {
      "cell_type": "code",
      "metadata": {
        "id": "2adb36e3",
        "outputId": "abc66188-71a3-4a1d-9a7c-7f76f55c1cf2"
      },
      "source": [
        "greet_user(\"gerd\")"
      ],
      "id": "2adb36e3",
      "execution_count": null,
      "outputs": [
        {
          "name": "stdout",
          "output_type": "stream",
          "text": [
            "Hello, Gerd!\n"
          ]
        }
      ]
    },
    {
      "cell_type": "code",
      "metadata": {
        "id": "fec59810"
      },
      "source": [
        "# Argumente und Parameter\n",
        "\n",
        "# Argumente übergeben:\n",
        "\n",
        "######################## Positionsabhängige Argumente :"
      ],
      "id": "fec59810",
      "execution_count": null,
      "outputs": []
    },
    {
      "cell_type": "code",
      "metadata": {
        "id": "53973f1a"
      },
      "source": [
        "def describe_pet(animal_type, pet_name):\n",
        "    \"\"\"Display information about a pet.\"\"\"\n",
        "    print(f\"\\nI have a {animal_type}.\")\n",
        "    print(f\"\\nMy {animal_type}'s name is {pet_name.title()}.\")"
      ],
      "id": "53973f1a",
      "execution_count": null,
      "outputs": []
    },
    {
      "cell_type": "code",
      "metadata": {
        "id": "f6e0d9e1",
        "outputId": "77f27aab-92fa-43be-e1e2-1694218e3d82"
      },
      "source": [
        "describe_pet('lion','simba')"
      ],
      "id": "f6e0d9e1",
      "execution_count": null,
      "outputs": [
        {
          "name": "stdout",
          "output_type": "stream",
          "text": [
            "\n",
            "I have a lion.\n",
            "\n",
            "My lion's name is Simba.\n"
          ]
        }
      ]
    },
    {
      "cell_type": "code",
      "metadata": {
        "id": "08d1d9a1",
        "outputId": "a4aff07e-516f-4f80-b985-e062240daec3"
      },
      "source": [
        "# mehrere Funktionsaufrufe\n",
        "describe_pet('dog','willi')"
      ],
      "id": "08d1d9a1",
      "execution_count": null,
      "outputs": [
        {
          "name": "stdout",
          "output_type": "stream",
          "text": [
            "\n",
            "I have a dog.\n",
            "\n",
            "My dog's name is Willi.\n"
          ]
        }
      ]
    },
    {
      "cell_type": "code",
      "metadata": {
        "id": "5ff09beb",
        "outputId": "399dfc0d-22cf-4e43-e9a7-8a480012869c"
      },
      "source": [
        "##### Schlüsselwortargumente\n",
        "\n",
        "# reihenfolge falsch: \n",
        "\n",
        "describe_pet('willi','dog')"
      ],
      "id": "5ff09beb",
      "execution_count": null,
      "outputs": [
        {
          "name": "stdout",
          "output_type": "stream",
          "text": [
            "\n",
            "I have a willi.\n",
            "\n",
            "My willi's name is Dog.\n"
          ]
        }
      ]
    },
    {
      "cell_type": "code",
      "metadata": {
        "id": "718c54ca",
        "outputId": "4dddbd52-d87b-4fde-d54e-a5e3ced08db9"
      },
      "source": [
        "# daher kann man es fixieren wenn in der funktion es folgendermaßen übergeben wird:\n",
        "\n",
        "describe_pet(pet_name = 'willi', animal_type = 'dog') # trotz der \"quasi falschen reihenfolge\""
      ],
      "id": "718c54ca",
      "execution_count": null,
      "outputs": [
        {
          "name": "stdout",
          "output_type": "stream",
          "text": [
            "\n",
            "I have a dog.\n",
            "\n",
            "My dog's name is Willi.\n"
          ]
        }
      ]
    },
    {
      "cell_type": "code",
      "metadata": {
        "id": "c1524971"
      },
      "source": [
        "###### Standardwerte: Vorgabewerte festlegen\n",
        "\n",
        "def describe_pet(pet_name, animal_type = 'dog'):\n",
        "    \"\"\"Display information about a pet\"\"\"\n",
        "    print(f\"\\nI have a {animal_type}.\")\n",
        "    print(f\"\\nMy {animal_type}'s name is {pet_name.title()}.\")"
      ],
      "id": "c1524971",
      "execution_count": null,
      "outputs": []
    },
    {
      "cell_type": "code",
      "metadata": {
        "id": "18da75e4",
        "outputId": "802c9f87-e433-448d-c100-411a8705b135"
      },
      "source": [
        "describe_pet('willi')"
      ],
      "id": "18da75e4",
      "execution_count": null,
      "outputs": [
        {
          "name": "stdout",
          "output_type": "stream",
          "text": [
            "\n",
            "I have a dog.\n",
            "\n",
            "My dog's name is Willi.\n"
          ]
        }
      ]
    },
    {
      "cell_type": "code",
      "metadata": {
        "id": "6b485eb7",
        "outputId": "73da809a-cfc4-4d05-a1da-5a7527e8e5e8"
      },
      "source": [
        "# Argumentfehler vermeiden:\n",
        "\n",
        "describe_pet()"
      ],
      "id": "6b485eb7",
      "execution_count": null,
      "outputs": [
        {
          "ename": "TypeError",
          "evalue": "describe_pet() missing 1 required positional argument: 'pet_name'",
          "output_type": "error",
          "traceback": [
            "\u001b[1;31m---------------------------------------------------------------------------\u001b[0m",
            "\u001b[1;31mTypeError\u001b[0m                                 Traceback (most recent call last)",
            "\u001b[1;32m<ipython-input-16-aa5220476b83>\u001b[0m in \u001b[0;36m<module>\u001b[1;34m\u001b[0m\n\u001b[0;32m      1\u001b[0m \u001b[1;31m# Argumentfehler vermeiden:\u001b[0m\u001b[1;33m\u001b[0m\u001b[1;33m\u001b[0m\u001b[1;33m\u001b[0m\u001b[0m\n\u001b[0;32m      2\u001b[0m \u001b[1;33m\u001b[0m\u001b[0m\n\u001b[1;32m----> 3\u001b[1;33m \u001b[0mdescribe_pet\u001b[0m\u001b[1;33m(\u001b[0m\u001b[1;33m)\u001b[0m\u001b[1;33m\u001b[0m\u001b[1;33m\u001b[0m\u001b[0m\n\u001b[0m",
            "\u001b[1;31mTypeError\u001b[0m: describe_pet() missing 1 required positional argument: 'pet_name'"
          ]
        }
      ]
    },
    {
      "cell_type": "code",
      "metadata": {
        "id": "e5c152e3"
      },
      "source": [
        "def describe_pet(pet_name, animal_type = 'dog'):\n",
        "    \"\"\"Display information about a pet\"\"\"\n",
        "    try: \n",
        "        print(f\"\\nI have a {animal_type}.\")\n",
        "        print(f\"\\nMy {animal_type}'s name is {pet_name.title()}.\")\n",
        "    except TypeError:\n",
        "        print(f\"\\nI have a {animal_type}.\")\n",
        "        print(f\"\\nMy {animal_type}'s name is 'Willi'.\")\n",
        "        "
      ],
      "id": "e5c152e3",
      "execution_count": null,
      "outputs": []
    },
    {
      "cell_type": "code",
      "metadata": {
        "id": "31031260",
        "outputId": "7d897e9d-7d3d-4d6b-91e0-725f9f622de1"
      },
      "source": [
        "describe_pet()"
      ],
      "id": "31031260",
      "execution_count": null,
      "outputs": [
        {
          "ename": "TypeError",
          "evalue": "describe_pet() missing 1 required positional argument: 'pet_name'",
          "output_type": "error",
          "traceback": [
            "\u001b[1;31m---------------------------------------------------------------------------\u001b[0m",
            "\u001b[1;31mTypeError\u001b[0m                                 Traceback (most recent call last)",
            "\u001b[1;32m<ipython-input-20-f95e5f55e3d1>\u001b[0m in \u001b[0;36m<module>\u001b[1;34m\u001b[0m\n\u001b[1;32m----> 1\u001b[1;33m \u001b[0mdescribe_pet\u001b[0m\u001b[1;33m(\u001b[0m\u001b[1;33m)\u001b[0m\u001b[1;33m\u001b[0m\u001b[1;33m\u001b[0m\u001b[0m\n\u001b[0m",
            "\u001b[1;31mTypeError\u001b[0m: describe_pet() missing 1 required positional argument: 'pet_name'"
          ]
        }
      ]
    },
    {
      "cell_type": "code",
      "metadata": {
        "id": "929c0f59"
      },
      "source": [
        "#### Rückgabewerte\n",
        "##### Einen einfachen Wert zurückgeben, nicht direkt anzeigen aber Wert ausgeben und zb überführen.\n",
        "\n",
        "def get_formatted_name(first_name,last_name):\n",
        "    \"\"\"Return a full name, neatly formatted.\"\"\"\n",
        "    full_name = f\"{first_name} {last_name}\"\n",
        "    return full_name.title()\n"
      ],
      "id": "929c0f59",
      "execution_count": null,
      "outputs": []
    },
    {
      "cell_type": "code",
      "metadata": {
        "id": "0bdd4695",
        "outputId": "bf961870-30d3-40c6-b08d-9d6f099e9bc3"
      },
      "source": [
        "musician = get_formatted_name('jimi', 'hendrix')\n",
        "print(musician)"
      ],
      "id": "0bdd4695",
      "execution_count": null,
      "outputs": [
        {
          "name": "stdout",
          "output_type": "stream",
          "text": [
            "Jimi Hendrix\n"
          ]
        }
      ]
    },
    {
      "cell_type": "code",
      "metadata": {
        "id": "42802f7d"
      },
      "source": [
        "# Optionale Argumente, ans Ende setzen mit Standardwert\n",
        "\n",
        "def get_formatted_name(first_name, last_name, middle_name=''):\n",
        "    \"\"\"Return a full name, neatly formatted.\"\"\"\n",
        "    if middle_name:\n",
        "        full_name = f\"{first_name} {middle_name} {last_name}\"\n",
        "    else: full_name = f\"{first_name} {last_name}\"\n",
        "    return full_name.title()"
      ],
      "id": "42802f7d",
      "execution_count": null,
      "outputs": []
    },
    {
      "cell_type": "code",
      "metadata": {
        "id": "da368ed4",
        "outputId": "b9e7aa83-9fb6-4883-e6a7-23c3c24f5798"
      },
      "source": [
        "musician = get_formatted_name('john','hooker', 'lee')\n",
        "print(musician)"
      ],
      "id": "da368ed4",
      "execution_count": null,
      "outputs": [
        {
          "name": "stdout",
          "output_type": "stream",
          "text": [
            "John Lee Hooker\n"
          ]
        }
      ]
    },
    {
      "cell_type": "code",
      "metadata": {
        "id": "1a228f7e",
        "outputId": "d26b0c50-6b74-4758-bc3d-13a473e8f3d2"
      },
      "source": [
        "musician = get_formatted_name('john','lee')\n",
        "print(musician)"
      ],
      "id": "1a228f7e",
      "execution_count": null,
      "outputs": [
        {
          "name": "stdout",
          "output_type": "stream",
          "text": [
            "John Lee\n"
          ]
        }
      ]
    },
    {
      "cell_type": "code",
      "metadata": {
        "id": "ed7fec3d"
      },
      "source": [
        "### Ein Dictionary zurückgeben:\n",
        "\n",
        "def build_person(first_name, last_name):\n",
        "    \"\"\"Return a dictionary of information about a person.\"\"\"\n",
        "    person = {'fname': first_name, 'lname': last_name}\n",
        "    return person"
      ],
      "id": "ed7fec3d",
      "execution_count": null,
      "outputs": []
    },
    {
      "cell_type": "code",
      "metadata": {
        "id": "c235cdc5"
      },
      "source": [
        "musician = build_person('jimi', 'hendrix')"
      ],
      "id": "c235cdc5",
      "execution_count": null,
      "outputs": []
    },
    {
      "cell_type": "code",
      "metadata": {
        "id": "91e7f621",
        "outputId": "188f16bd-f0ef-4068-edf8-ace5fd9db3d5"
      },
      "source": [
        "print(musician)\n",
        "print()\n",
        "print(type(musician))\n",
        "print()\n",
        "print(musician['fname'])"
      ],
      "id": "91e7f621",
      "execution_count": null,
      "outputs": [
        {
          "name": "stdout",
          "output_type": "stream",
          "text": [
            "{'fname': 'jimi', 'lname': 'hendrix'}\n",
            "\n",
            "<class 'dict'>\n",
            "\n",
            "jimi\n"
          ]
        }
      ]
    },
    {
      "cell_type": "code",
      "metadata": {
        "id": "bc173228"
      },
      "source": [
        "### noch optional ins dicitonary das age mit reinbringen:\n",
        "\n",
        "def build_person(first_name, last_name, age = ''):\n",
        "    \"\"\"Return a dictionary of Information about a User\"\"\"\n",
        "    person = {'fname' : first_name, 'lname' : last_name}\n",
        "    if age:\n",
        "        person['age'] = age\n",
        "    return(person)"
      ],
      "id": "bc173228",
      "execution_count": null,
      "outputs": []
    },
    {
      "cell_type": "code",
      "metadata": {
        "id": "7922a2a8",
        "outputId": "f24b2cb2-0b5a-43fb-c47f-2a39113cf6e1"
      },
      "source": [
        "userdetail = build_person('gerd','klaus','36')\n",
        "print(userdetail)"
      ],
      "id": "7922a2a8",
      "execution_count": null,
      "outputs": [
        {
          "name": "stdout",
          "output_type": "stream",
          "text": [
            "{'fname': 'gerd', 'lname': 'klaus', 'age': '36'}\n"
          ]
        }
      ]
    },
    {
      "cell_type": "code",
      "metadata": {
        "id": "c3baa1ef",
        "outputId": "2e0eab25-31ab-45db-cc56-0b692d086bfd"
      },
      "source": [
        "## Funktionen in einer while-schleife\n",
        "\n",
        "def get_formatted_name(first_name, last_name):\n",
        "    \"\"\"Return a full name, neatly formatted\"\"\"\n",
        "    full_name = f\"{first_name} {last_name}\"\n",
        "    return full_name.title()\n",
        "\n",
        "while True:\n",
        "    print(\"\\nPlease tell me your name: \")\n",
        "    print(\"(enter 'q' at any time to quit)\")\n",
        "    \n",
        "    f_name = input(\"First name: \")\n",
        "    if f_name == 'q':\n",
        "        break\n",
        "    \n",
        "    l_name = input(\"Last name: \")\n",
        "    if l_name == 'q':\n",
        "        break\n",
        "        \n",
        "    formatted_name = get_formatted_name(f_name, l_name)\n",
        "    print(f\"\\nHello, {formatted_name}!\")"
      ],
      "id": "c3baa1ef",
      "execution_count": null,
      "outputs": [
        {
          "name": "stdout",
          "output_type": "stream",
          "text": [
            "\n",
            "Please tell me your name: \n",
            "(enter 'q' at any time to quit)\n",
            "First name: gerd\n",
            "Last name: klaus\n",
            "\n",
            "Hello, Gerd Klaus!\n",
            "\n",
            "Please tell me your name: \n",
            "(enter 'q' at any time to quit)\n",
            "First name: q\n"
          ]
        }
      ]
    },
    {
      "cell_type": "code",
      "metadata": {
        "id": "64a5f8e6"
      },
      "source": [
        "# Eine Liste übergeben:\n",
        "\n",
        "def greet_user(names):\n",
        "    \"\"\"Print a simple greeting to each user in the list\"\"\"\n",
        "    for name in names:\n",
        "        msg = f\"Hello, {name.title()}!\"\n",
        "        print(msg)"
      ],
      "id": "64a5f8e6",
      "execution_count": null,
      "outputs": []
    },
    {
      "cell_type": "code",
      "metadata": {
        "id": "a2617d62",
        "outputId": "f6e860d5-4fd0-4424-a19e-2240759e28c3"
      },
      "source": [
        "usernames = ['hannah', 'ty','margot']\n",
        "greet_user(usernames)"
      ],
      "id": "a2617d62",
      "execution_count": null,
      "outputs": [
        {
          "name": "stdout",
          "output_type": "stream",
          "text": [
            "Hello, Hannah!\n",
            "Hello, Ty!\n",
            "Hello, Margot!\n"
          ]
        }
      ]
    },
    {
      "cell_type": "code",
      "metadata": {
        "id": "63ab0713",
        "outputId": "1ddd1d97-a430-4819-b2cb-bca2c69c5e29"
      },
      "source": [
        "# Eine Liste mithilfe einer Funktion ändern\n",
        "\n",
        "# Erstellt eine Liste der zu druckendne Entwürfe.\n",
        "unprinted_designs = ['phone case' 'robot pendant', 'dodecahedron']\n",
        "completed_models = []\n",
        "\n",
        "# Simuliert den Druck der einzelnen Entwürfe, bis keiner mehr übrig ist.\n",
        "# Verschiebt jeden Entwurf nach dem Druck in completed_models.\n",
        "\n",
        "while unprinted_designs:\n",
        "    current_design = unprinted_designs.pop()\n",
        "    print(f\"Printing model: {current_design}\")\n",
        "    completed_models.append(current_design)\n",
        "\n",
        "#Zeigt die Liste der fertigen Modelle an:\n",
        "print(\"\\nThe following models have been printed:\")\n",
        "for completed_model in completed_models:\n",
        "    print(completed_model)"
      ],
      "id": "63ab0713",
      "execution_count": null,
      "outputs": [
        {
          "name": "stdout",
          "output_type": "stream",
          "text": [
            "Printing model: dodecahedron\n",
            "Printing model: phone caserobot pendant\n",
            "\n",
            "The following models have been printed:\n",
            "dodecahedron\n",
            "phone caserobot pendant\n"
          ]
        }
      ]
    },
    {
      "cell_type": "code",
      "metadata": {
        "id": "74cb573a"
      },
      "source": [
        "# Code umgestalten um 2 Funktionen draus zu machen:\n",
        "\n",
        "def print_models(unprinted_designs, completed_models):\n",
        "    \"\"\"Simulate printing each design, until none are left.\n",
        "       Move each design to completed_models after printing.\n",
        "    \"\"\"\n",
        "    while unprinted_designs:\n",
        "        current_design = unprinted_designs.pop()\n",
        "        print(f\"\\nPrinting model: {current_design}\")\n",
        "        completed_models.append(current_design)\n",
        "        \n",
        "def show_completed_models(completed_models):\n",
        "    \"\"\"Show all the models that were printed.\"\"\"\n",
        "    print(\"\\nThe following models have been printed:\")\n",
        "    for completed_model in completed_models:\n",
        "        print(completed_model)\n"
      ],
      "id": "74cb573a",
      "execution_count": null,
      "outputs": []
    },
    {
      "cell_type": "code",
      "metadata": {
        "id": "91d94f57"
      },
      "source": [
        "unprinted_designs = ['phone case', 'robot pendant', 'dodecahedron']\n",
        "completed_models =[]"
      ],
      "id": "91d94f57",
      "execution_count": null,
      "outputs": []
    },
    {
      "cell_type": "code",
      "metadata": {
        "id": "a2f58afb",
        "outputId": "a28aa659-5b23-4ea1-a806-318335886719"
      },
      "source": [
        "print_models(unprinted_designs,completed_models)\n",
        "show_completed_models(completed_models)"
      ],
      "id": "a2f58afb",
      "execution_count": null,
      "outputs": [
        {
          "name": "stdout",
          "output_type": "stream",
          "text": [
            "\n",
            "Printing model: dodecahedron\n",
            "\n",
            "Printing model: robot pendant\n",
            "\n",
            "Printing model: phone case\n",
            "\n",
            "The following models have been printed:\n",
            "dodecahedron\n",
            "robot pendant\n",
            "phone case\n"
          ]
        }
      ]
    },
    {
      "cell_type": "code",
      "metadata": {
        "id": "c657e297"
      },
      "source": [
        "#### Die Änderung einer Liste in einer Funktion verhindern\n",
        " funktionsname(Listenname[:]) ## dadurch wird kopie erstellt\n"
      ],
      "id": "c657e297",
      "execution_count": null,
      "outputs": []
    },
    {
      "cell_type": "code",
      "metadata": {
        "id": "1fba59af"
      },
      "source": [
        "## Beliebig viele Argumente übergeben\n",
        "\n",
        "def make_pizza(*toppings): #### Sternchen markiert beliebig viele Argumente\n",
        "    \"\"\"Print the list of toppings that have been requested.\"\"\"\n",
        "    print(toppings)"
      ],
      "id": "1fba59af",
      "execution_count": null,
      "outputs": []
    },
    {
      "cell_type": "code",
      "metadata": {
        "id": "639de7f6",
        "outputId": "84db4881-7ca9-428a-f3e6-26329d2b7eea"
      },
      "source": [
        "make_pizza('pepperoni')"
      ],
      "id": "639de7f6",
      "execution_count": null,
      "outputs": [
        {
          "name": "stdout",
          "output_type": "stream",
          "text": [
            "('pepperoni',)\n"
          ]
        }
      ]
    },
    {
      "cell_type": "code",
      "metadata": {
        "id": "41ad00a2",
        "outputId": "f85a2a9a-94f9-4322-f11e-0b3105975951"
      },
      "source": [
        "make_pizza('mushrooms', 'green peppers', 'extra cheese')"
      ],
      "id": "41ad00a2",
      "execution_count": null,
      "outputs": [
        {
          "name": "stdout",
          "output_type": "stream",
          "text": [
            "('mushrooms', 'green peppers', 'extra cheese')\n"
          ]
        }
      ]
    },
    {
      "cell_type": "code",
      "metadata": {
        "id": "4bd82fe7",
        "outputId": "be9a90a5-57ca-44c7-807f-ebbd56e1a0e0"
      },
      "source": [
        "# Positionsabhängige Argumente und Argumente beliebiger Anzahl kombinieren\n",
        "\n",
        "def make_pizza(size, *toppings):\n",
        "    \"\"\"summarize the pizza we are abput to make.\"\"\"\n",
        "    print(f\"\\nMaking a {size}-inch pizza with the following toppings: \")\n",
        "    for topping in toppings:\n",
        "        print(f\"- {topping.title()}\")\n",
        "        \n",
        "make_pizza(16, 'pepperoni')\n",
        "make_pizza(12, 'mushrooms', 'green peppers', 'extra cheese')"
      ],
      "id": "4bd82fe7",
      "execution_count": null,
      "outputs": [
        {
          "name": "stdout",
          "output_type": "stream",
          "text": [
            "\n",
            "Making a 16-inch pizza with the following toppings: \n",
            "- Pepperoni\n",
            "\n",
            "Making a 12-inch pizza with the following toppings: \n",
            "- Mushrooms\n",
            "- Green Peppers\n",
            "- Extra Cheese\n"
          ]
        }
      ]
    },
    {
      "cell_type": "code",
      "metadata": {
        "id": "1212ea3a",
        "outputId": "504c3976-41c4-4bdd-fafb-f7cb95c38e53"
      },
      "source": [
        "# Beliebig viele Schlüsselwortargumente übergeben\n",
        "\n",
        "def build_profile(first, last, **user_info):\n",
        "    \"\"\"Build a dicitonary containing everything we know about a user.\"\"\"\n",
        "    user_info['first_name'] = first\n",
        "    user_info['last_name'] = last\n",
        "    return user_info\n",
        "\n",
        "user_profile = build_profile('albert', 'einstein',\n",
        "                             location = 'princeton',\n",
        "                            field = 'physics')\n",
        "\n",
        "print(user_profile)"
      ],
      "id": "1212ea3a",
      "execution_count": null,
      "outputs": [
        {
          "name": "stdout",
          "output_type": "stream",
          "text": [
            "{'location': 'princeton', 'field': 'physics', 'first_name': 'albert', 'last_name': 'einstein'}\n"
          ]
        }
      ]
    },
    {
      "cell_type": "code",
      "metadata": {
        "id": "83468e44"
      },
      "source": [
        "## Funktionsnamen in Modulen speichern:\n",
        "\n",
        "### Ein komplettes Modul importieren --- pizza.py, abgelegt im Vezeichnis\n",
        "\n",
        "def make_pizza(size, *toppings):\n",
        "    \"\"\"Summariize the pizza we are about to make.\"\"\"\n",
        "    print(f\"\\nMaking a {size}-inch pizza with the following toppings: \")\n",
        "    for topping in toppings:\n",
        "        print(f\"- {topping}\")"
      ],
      "id": "83468e44",
      "execution_count": null,
      "outputs": []
    },
    {
      "cell_type": "code",
      "metadata": {
        "id": "8588c803"
      },
      "source": [
        "import pizza"
      ],
      "id": "8588c803",
      "execution_count": null,
      "outputs": []
    },
    {
      "cell_type": "code",
      "metadata": {
        "id": "65f23ee2",
        "outputId": "36824095-744d-40bd-beae-b33b7d2cfadc"
      },
      "source": [
        "pizza.make_pizza(16,'pepperoni')"
      ],
      "id": "65f23ee2",
      "execution_count": null,
      "outputs": [
        {
          "name": "stdout",
          "output_type": "stream",
          "text": [
            "\n",
            "Making a 16-inch pizza with the following toppings: \n",
            "- pepperoni\n"
          ]
        }
      ]
    },
    {
      "cell_type": "code",
      "metadata": {
        "id": "b7dac0d6"
      },
      "source": [
        "### Einzelne Funktionen importieren \n",
        "\n",
        "from modulname import funktionsname\n",
        "\n",
        "from modulname import funktion_0, funktion_1, funktion_2\n"
      ],
      "id": "b7dac0d6",
      "execution_count": null,
      "outputs": []
    },
    {
      "cell_type": "code",
      "metadata": {
        "id": "997fa61e"
      },
      "source": [
        ""
      ],
      "id": "997fa61e",
      "execution_count": null,
      "outputs": []
    }
  ]
}